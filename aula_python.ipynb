{
  "nbformat": 4,
  "nbformat_minor": 0,
  "metadata": {
    "colab": {
      "provenance": [],
      "authorship_tag": "ABX9TyOxuwD7nGxnFLY60xpY/bT4",
      "include_colab_link": true
    },
    "kernelspec": {
      "name": "python3",
      "display_name": "Python 3"
    },
    "language_info": {
      "name": "python"
    }
  },
  "cells": [
    {
      "cell_type": "markdown",
      "metadata": {
        "id": "view-in-github",
        "colab_type": "text"
      },
      "source": [
        "<a href=\"https://colab.research.google.com/github/brunogralak/python/blob/main/aula_python.ipynb\" target=\"_parent\"><img src=\"https://colab.research.google.com/assets/colab-badge.svg\" alt=\"Open In Colab\"/></a>"
      ]
    },
    {
      "cell_type": "markdown",
      "source": [
        "#**aula 1**  ✈ ⚓"
      ],
      "metadata": {
        "id": "Ccdo4_JenoOp"
      }
    },
    {
      "cell_type": "code",
      "source": [
        "ano = \"IX\"\n",
        "print(f\"{ano} competição de programação da Start\")"
      ],
      "metadata": {
        "colab": {
          "base_uri": "https://localhost:8080/"
        },
        "id": "lz9K9TvRpgg1",
        "outputId": "534840cb-0eb8-414c-eb78-1b371c28e89b"
      },
      "execution_count": null,
      "outputs": [
        {
          "output_type": "stream",
          "name": "stdout",
          "text": [
            "IX competição de programação da Start\n"
          ]
        }
      ]
    },
    {
      "cell_type": "markdown",
      "source": [
        "#**aula2** 🚀 🐄 🐼"
      ],
      "metadata": {
        "id": "-8A-Kq4Lo3xV"
      }
    },
    {
      "cell_type": "code",
      "source": [
        "livro_ficcao = 8\n",
        "livro_n_ficcao = 10\n",
        "livro_infantil = 6\n",
        "pontos_rodrigo = livro_ficcao + livro_n_ficcao + livro_infantil\n",
        "pontos_ana = 2 * livro_ficcao + 5 * livro_infantil\n",
        "pontos_totais = pontos_rodrigo + pontos_ana\n",
        "print(f\"Os pontos totais do Rodrigo são {pontos_rodrigo}\")\n",
        "print(f\"Os pontos totais do ana são {pontos_ana}\")\n",
        "print(f\"Os pontos totais do Rodrigo e da ana são {pontos_totais}\")"
      ],
      "metadata": {
        "colab": {
          "base_uri": "https://localhost:8080/"
        },
        "id": "ZJc-jjpup2zW",
        "outputId": "be1fbeaa-8e71-41a7-96a4-087d371f6781"
      },
      "execution_count": null,
      "outputs": [
        {
          "output_type": "stream",
          "name": "stdout",
          "text": [
            "Os pontos totais do Rodrigo são 24\n",
            "Os pontos totais do ana são 46\n",
            "Os pontos totais do Rodrigo e da ana são 70\n"
          ]
        }
      ]
    },
    {
      "cell_type": "markdown",
      "source": [
        "#**aula 3 tabuada** 2 2 🇧🇷"
      ],
      "metadata": {
        "id": "RIAsPPKVrlUX"
      }
    },
    {
      "cell_type": "code",
      "source": [
        "def tabuada(numero):\n",
        "    for contador in range(1, 11):  # Gera números de 1 a 10\n",
        "        print(f\"{numero} x {contador} = {numero * contador}\")\n",
        "numero = int(input(\"Digite um número para ver sua tabuada: \"))\n",
        "tabuada(numero)"
      ],
      "metadata": {
        "colab": {
          "base_uri": "https://localhost:8080/"
        },
        "id": "nwvHbv1Asx59",
        "outputId": "c60ed78f-30a0-465f-a5d6-d38405fe2751"
      },
      "execution_count": null,
      "outputs": [
        {
          "output_type": "stream",
          "name": "stdout",
          "text": [
            "Digite um número para ver sua tabuada: 98\n",
            "98 x 1 = 98\n",
            "98 x 2 = 196\n",
            "98 x 3 = 294\n",
            "98 x 4 = 392\n",
            "98 x 5 = 490\n",
            "98 x 6 = 588\n",
            "98 x 7 = 686\n",
            "98 x 8 = 784\n",
            "98 x 9 = 882\n",
            "98 x 10 = 980\n"
          ]
        }
      ]
    },
    {
      "cell_type": "markdown",
      "source": [
        "#**aula 4 imc** ✊🏍️🚀"
      ],
      "metadata": {
        "id": "KHp2czHEj5mU"
      }
    },
    {
      "cell_type": "code",
      "source": [
        "peso = float(input(\"Digite seu peso (em kg): \"))\n",
        "altura = float(input(\"Digite sua altura (em metros): \"))\n",
        "imc = peso / (altura ** 2)\n",
        "print(f\"\\nSeu IMC é: {imc:.2f}\")\n",
        "if imc < 18.5:\n",
        "    print(\"Você está abaixo do peso.\")\n",
        "elif 18.5 <= imc < 25:\n",
        "    print(\"Você está no peso ideal.\")\n",
        "elif 25 <= imc < 30:\n",
        "    print(\"Você está com sobrepeso.\")\n",
        "else:\n",
        "    print(\"Você está acima do peso.\")\n"
      ],
      "metadata": {
        "colab": {
          "base_uri": "https://localhost:8080/"
        },
        "id": "AsIFFkT_kVoo",
        "outputId": "86579297-6faf-4a86-e5f2-e2b2a6539eff"
      },
      "execution_count": 3,
      "outputs": [
        {
          "output_type": "stream",
          "name": "stdout",
          "text": [
            "Digite seu peso (em kg): 200\n",
            "Digite sua altura (em metros): 1.77\n",
            "\n",
            "Seu IMC é: 63.84\n",
            "Você está acima do peso.\n"
          ]
        }
      ]
    },
    {
      "cell_type": "markdown",
      "source": [
        "#**aula 5** 🚜🇧🇷🌱"
      ],
      "metadata": {
        "id": "M96C_BbQk4BG"
      }
    },
    {
      "cell_type": "code",
      "source": [
        "print (\"ola, sou seu assitente virtual, em que poso ajudar?\")\n",
        "nome = input(\"digite seu nome: \")\n",
        "resposta =input(f\"ola {nome}, qual tema vc deseja conversar? python, javascript ou matematica: \")"
      ],
      "metadata": {
        "colab": {
          "base_uri": "https://localhost:8080/"
        },
        "id": "zuvPLs8zlre0",
        "outputId": "f9d706a0-957f-47d9-f73c-a34a1ae2cced"
      },
      "execution_count": 8,
      "outputs": [
        {
          "name": "stdout",
          "output_type": "stream",
          "text": [
            "ola, sou seu assitente virtual, em que poso ajudar?\n",
            "digite seu nome: bruno\n",
            "ola bruno, qual tema vc deseja conversar? python, javascript ou matematica: nem um dos dois\n"
          ]
        }
      ]
    }
  ]
}